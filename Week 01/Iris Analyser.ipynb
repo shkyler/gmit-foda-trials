{
 "cells": [
  {
   "cell_type": "markdown",
   "metadata": {},
   "source": [
    "![GMIT Logo](img/GMITLOGO.jpg)"
   ]
  },
  {
   "cell_type": "markdown",
   "metadata": {},
   "source": [
    "# The Iris Analyser"
   ]
  },
  {
   "cell_type": "markdown",
   "metadata": {},
   "source": [
    "This notebook has been set up as a trial to build a better UI for the Iris Analyser program from last semesters Programming and Scripting project."
   ]
  },
  {
   "cell_type": "code",
   "execution_count": null,
   "metadata": {},
   "outputs": [],
   "source": [
    "#Tell matplotlib to run its graphics \"inline\"\n",
    "%matplotlib inline\n",
    "#Run the iris analyser\n",
    "%run irisanalyser.py"
   ]
  },
  {
   "cell_type": "markdown",
   "metadata": {},
   "source": [
    "_**This is a test**_\n",
    "- this\n",
    "- is\n",
    "- as\n",
    "- list\n",
    "\n",
    "_**Number List**_\n",
    "\n",
    "1. One\n",
    "1. Two\n",
    "1. Three\n",
    "1. Four\n",
    "\n",
    "_**Bulleted List**_\n",
    "\n",
    "* One\n",
    "* Two\n",
    "* Three\n",
    "* Four"
   ]
  },
  {
   "cell_type": "code",
   "execution_count": 8,
   "metadata": {},
   "outputs": [
    {
     "name": "stdout",
     "output_type": "stream",
     "text": [
      "3.4608925341054064\n",
      "4\n"
     ]
    }
   ],
   "source": [
    "import numpy as np\n",
    "import math\n",
    "\n",
    "pick = np.random.uniform(0.0,10.0)\n",
    "\n",
    "print(pick)\n",
    "print(math.ceil(pick))"
   ]
  },
  {
   "cell_type": "code",
   "execution_count": null,
   "metadata": {},
   "outputs": [],
   "source": []
  }
 ],
 "metadata": {
  "kernelspec": {
   "display_name": "Python 3",
   "language": "python",
   "name": "python3"
  },
  "language_info": {
   "codemirror_mode": {
    "name": "ipython",
    "version": 3
   },
   "file_extension": ".py",
   "mimetype": "text/x-python",
   "name": "python",
   "nbconvert_exporter": "python",
   "pygments_lexer": "ipython3",
   "version": "3.6.6"
  }
 },
 "nbformat": 4,
 "nbformat_minor": 2
}
