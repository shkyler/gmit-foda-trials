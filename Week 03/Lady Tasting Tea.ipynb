{
 "cells": [
  {
   "cell_type": "markdown",
   "metadata": {},
   "source": [
    "# Lady Tasting Tea - An Investigation\n",
    "\n",
    "The \"Lady Tasting Tea\" problem is a probability and statistics problem that was first described by Ronald Fisher. A full explaination can be found on the [wikipedia page](https://en.wikipedia.org/wiki/Lady_tasting_tea \"Wikipedia - Lady Tasting Tea\"), but a summary of the problem is as follows:\n",
    "\n",
    "* A lady with whom Fisher was aquainted claims to be able to taste the difference in a cup of tea, depending on whether the tea was poured in the cup first or the milk was\n",
    "* Fisher designed a statistical experiment to test this\n",
    "* He proposed making 8 cups of tea, 4 prepared with milk poured first and the other 4 prepared with the tea poured first\n",
    "* The cups would be randomly presented to the lady who would taste all 8 cups and then decide which 4 were prepared with the milk poured first and which with the tea poured first.\n",
    "* Note that the cups were to be randomised using something like a dice - to remove subconcious human bias from the selection process\n",
    "* The lady was fully aware of the experimental procedure from the begining\n",
    "* The results of the test are analysed to determine if the correct cups could have been chosen by chance"
   ]
  },
  {
   "cell_type": "markdown",
   "metadata": {},
   "source": [
    "## Determine the possible number of combinations\n",
    "\n",
    "In this section, we will calculate the total number of combinations possible to select 4 cups from 8. "
   ]
  },
  {
   "cell_type": "code",
   "execution_count": 1,
   "metadata": {},
   "outputs": [
    {
     "data": {
      "text/plain": [
       "[0, 1, 2, 3, 4, 5, 6, 7]"
      ]
     },
     "execution_count": 1,
     "metadata": {},
     "output_type": "execute_result"
    }
   ],
   "source": [
    "# Suppose we have a list with 8 cups in it\n",
    "cups = list(range(8))\n",
    "cups"
   ]
  },
  {
   "cell_type": "markdown",
   "metadata": {},
   "source": [
    "If we want to select 4 cups from the 8 cups available, the number of possible picks for the 1st cup is 8, 7 for the 2nd, 6 for the third, and 5 for the 4th."
   ]
  },
  {
   "cell_type": "code",
   "execution_count": 2,
   "metadata": {},
   "outputs": [
    {
     "data": {
      "text/plain": [
       "1680"
      ]
     },
     "execution_count": 2,
     "metadata": {},
     "output_type": "execute_result"
    }
   ],
   "source": [
    "# number of ways to fill 4 slots from 8 possible options \n",
    "8 * 7 * 6 * 5"
   ]
  },
  {
   "cell_type": "markdown",
   "metadata": {},
   "source": [
    "There are 1680 different ways to select 4 cups from 8 in an **_ordered_** way. For this experiment we are not concerned about the order of the cups (just that they are the correct cups) so we must divide 1680 by the number for different ways of arranging 4 items"
   ]
  },
  {
   "cell_type": "code",
   "execution_count": 4,
   "metadata": {},
   "outputs": [
    {
     "data": {
      "text/plain": [
       "24"
      ]
     },
     "execution_count": 4,
     "metadata": {},
     "output_type": "execute_result"
    }
   ],
   "source": [
    "# number of ways to fill 4 slots from 4 possible options\n",
    "4 * 3 * 2 * 1"
   ]
  },
  {
   "cell_type": "markdown",
   "metadata": {},
   "source": [
    "So to determine the number of ways that 4 cups can be selected from 8 (order not important) we divide 1680 by 24:"
   ]
  },
  {
   "cell_type": "code",
   "execution_count": 35,
   "metadata": {},
   "outputs": [
    {
     "data": {
      "text/plain": [
       "70.0"
      ]
     },
     "execution_count": 35,
     "metadata": {},
     "output_type": "execute_result"
    }
   ],
   "source": [
    "1680/24"
   ]
  },
  {
   "cell_type": "markdown",
   "metadata": {},
   "source": [
    "There are 70 ways to pick 4 cups from 8 (order not important). The different combinations in our *cups* list can be listed below"
   ]
  },
  {
   "cell_type": "code",
   "execution_count": 36,
   "metadata": {
    "scrolled": true
   },
   "outputs": [],
   "source": [
    "import itertools\n",
    "# itertool.combinations takes a list and an int - it returns all of the \n",
    "# ways to pick that number of things from the list\n",
    "poss = itertools.combinations(cups,4)\n",
    "\n",
    "# converting this to a list will make it possible to maniplate\n",
    "poss_ls = list(poss)"
   ]
  },
  {
   "cell_type": "markdown",
   "metadata": {},
   "source": [
    "## Hypotheses \n",
    "\n",
    "Statistical experimentation such as this requires the use of a *hypothesis* to test. The method developed by Fisher is to state a **Null Hypothesis (H<sub>0</sub>)** for the experiment. This is a hypothesis that states something about one of the statistical variables before the experiment is started. The experimental process will then look to reject this hypothesis based on the data or else if will *fail to reject* it. For the null hypothesis, it is common to take a skeptical view of the procedings, if proven wrong it can then be rejected.\n",
    "\n",
    "There is also the concept of an **Alternative Hypothesis (H<sub>1</sub>)** which can be used if the null hypothesis is rejected. This must be carefully defined as it is not always possible to accept it just because the null hypothesis is rejected.\n",
    "\n",
    "In the Lady Tasting Tea experiment the null hypothesis is that the lady cannont determine whether the milk or tea was poured first.\n",
    "\n",
    "The alternative hypothesis is that the lady is able to determine whether the milk or tea was poured first."
   ]
  },
  {
   "cell_type": "markdown",
   "metadata": {},
   "source": [
    "## Distribution of possible results\n",
    "\n",
    "In this section we will calculate and visulise the distributions of possible results. This will help determine:\n",
    "* How likely it is that the correct solution could be arrived at by chance\n",
    "* How many correct cups have to be selected in order to confidently reject the null hypothesis"
   ]
  },
  {
   "cell_type": "code",
   "execution_count": 15,
   "metadata": {},
   "outputs": [
    {
     "data": {
      "text/plain": [
       "{2, 4, 5, 6}"
      ]
     },
     "execution_count": 15,
     "metadata": {},
     "output_type": "execute_result"
    }
   ],
   "source": [
    "# randomly select one set of cups from the 70 possible combinations\n",
    "import random\n",
    "correct = random.choice(poss_ls)\n",
    "# convert this to a set so we can compare later\n",
    "correct_st = set(correct)\n",
    "correct_st"
   ]
  },
  {
   "cell_type": "code",
   "execution_count": 18,
   "metadata": {
    "scrolled": true
   },
   "outputs": [
    {
     "data": {
      "text/plain": [
       "[{0, 1, 2, 3},\n",
       " {0, 1, 2, 4},\n",
       " {0, 1, 2, 5},\n",
       " {0, 1, 2, 6},\n",
       " {0, 1, 2, 7},\n",
       " {0, 1, 3, 4},\n",
       " {0, 1, 3, 5},\n",
       " {0, 1, 3, 6},\n",
       " {0, 1, 3, 7},\n",
       " {0, 1, 4, 5},\n",
       " {0, 1, 4, 6},\n",
       " {0, 1, 4, 7},\n",
       " {0, 1, 5, 6},\n",
       " {0, 1, 5, 7},\n",
       " {0, 1, 6, 7},\n",
       " {0, 2, 3, 4},\n",
       " {0, 2, 3, 5},\n",
       " {0, 2, 3, 6},\n",
       " {0, 2, 3, 7},\n",
       " {0, 2, 4, 5},\n",
       " {0, 2, 4, 6},\n",
       " {0, 2, 4, 7},\n",
       " {0, 2, 5, 6},\n",
       " {0, 2, 5, 7},\n",
       " {0, 2, 6, 7},\n",
       " {0, 3, 4, 5},\n",
       " {0, 3, 4, 6},\n",
       " {0, 3, 4, 7},\n",
       " {0, 3, 5, 6},\n",
       " {0, 3, 5, 7},\n",
       " {0, 3, 6, 7},\n",
       " {0, 4, 5, 6},\n",
       " {0, 4, 5, 7},\n",
       " {0, 4, 6, 7},\n",
       " {0, 5, 6, 7},\n",
       " {1, 2, 3, 4},\n",
       " {1, 2, 3, 5},\n",
       " {1, 2, 3, 6},\n",
       " {1, 2, 3, 7},\n",
       " {1, 2, 4, 5},\n",
       " {1, 2, 4, 6},\n",
       " {1, 2, 4, 7},\n",
       " {1, 2, 5, 6},\n",
       " {1, 2, 5, 7},\n",
       " {1, 2, 6, 7},\n",
       " {1, 3, 4, 5},\n",
       " {1, 3, 4, 6},\n",
       " {1, 3, 4, 7},\n",
       " {1, 3, 5, 6},\n",
       " {1, 3, 5, 7},\n",
       " {1, 3, 6, 7},\n",
       " {1, 4, 5, 6},\n",
       " {1, 4, 5, 7},\n",
       " {1, 4, 6, 7},\n",
       " {1, 5, 6, 7},\n",
       " {2, 3, 4, 5},\n",
       " {2, 3, 4, 6},\n",
       " {2, 3, 4, 7},\n",
       " {2, 3, 5, 6},\n",
       " {2, 3, 5, 7},\n",
       " {2, 3, 6, 7},\n",
       " {2, 4, 5, 6},\n",
       " {2, 4, 5, 7},\n",
       " {2, 4, 6, 7},\n",
       " {2, 5, 6, 7},\n",
       " {3, 4, 5, 6},\n",
       " {3, 4, 5, 7},\n",
       " {3, 4, 6, 7},\n",
       " {3, 5, 6, 7},\n",
       " {4, 5, 6, 7}]"
      ]
     },
     "execution_count": 18,
     "metadata": {},
     "output_type": "execute_result"
    }
   ],
   "source": [
    "# define the possible solutions as sets\n",
    "poss_st = [set(i) for i in itertools.combinations(cups,4)]\n",
    "poss_st"
   ]
  },
  {
   "cell_type": "code",
   "execution_count": 28,
   "metadata": {},
   "outputs": [],
   "source": [
    "# for every possible combination of results, count the number of correct cups\n",
    "counts = [len(correct_st & i) for i in poss_st]\n"
   ]
  },
  {
   "cell_type": "code",
   "execution_count": 31,
   "metadata": {},
   "outputs": [
    {
     "data": {
      "text/plain": [
       "<matplotlib.axes._subplots.AxesSubplot at 0x1189bdef0>"
      ]
     },
     "execution_count": 31,
     "metadata": {},
     "output_type": "execute_result"
    },
    {
     "data": {
      "image/png": "[encoded data removed]",
      "text/plain": [
       "<matplotlib.figure.Figure at 0x1158ad160>"
      ]
     },
     "metadata": {
      "needs_background": "light"
     },
     "output_type": "display_data"
    }
   ],
   "source": [
    "# plot the distribution of these counts\n",
    "import seaborn as sns\n",
    "%matplotlib inline\n",
    "sns.countplot(counts)"
   ]
  },
  {
   "cell_type": "markdown",
   "metadata": {},
   "source": [
    "## Discussion of results\n",
    "\n",
    "From the distribution chart it can be seen that there is only 1 way to select the 4 correct cups from the the 70 combinations."
   ]
  },
  {
   "cell_type": "code",
   "execution_count": 34,
   "metadata": {},
   "outputs": [
    {
     "data": {
      "text/plain": [
       "1.43"
      ]
     },
     "execution_count": 34,
     "metadata": {},
     "output_type": "execute_result"
    }
   ],
   "source": [
    "# calculate the probability of selecting the 4 correct cups at random\n",
    "round(1/70*100,2)"
   ]
  },
  {
   "cell_type": "markdown",
   "metadata": {},
   "source": [
    "There is a 1.43% chance that the 4 correct cups could be selected at random. This means that if the lady was to select the 4 correct cups, there is probably enough statistical data to reject the null hypothesis and accept the alternative. It should also be noted that while it may be tempting to reject the null hypothesis if the lady were to pick 3 correct cups from the 4 she selected, the data suggests that this is not a good idea. There are 16 different ways to select 3 cups from 4, and 1 to select 4. The chance of randomly selecting at least 3 cups correctly is over 24%. Nearly 1 in 4! There is not enough evidence to reject the null hypothesis based on 3 correct cups."
   ]
  },
  {
   "cell_type": "code",
   "execution_count": 33,
   "metadata": {},
   "outputs": [
    {
     "data": {
      "text/plain": [
       "24.29"
      ]
     },
     "execution_count": 33,
     "metadata": {},
     "output_type": "execute_result"
    }
   ],
   "source": [
    "# calculate the probability of selecting the at least 3 correct cups at random\n",
    "round((1+16)/70*100,2)"
   ]
  }
 ],
 "metadata": {
  "kernelspec": {
   "display_name": "Python 3",
   "language": "python",
   "name": "python3"
  },
  "language_info": {
   "codemirror_mode": {
    "name": "ipython",
    "version": 3
   },
   "file_extension": ".py",
   "mimetype": "text/x-python",
   "name": "python",
   "nbconvert_exporter": "python",
   "pygments_lexer": "ipython3",
   "version": "3.6.6"
  }
 },
 "nbformat": 4,
 "nbformat_minor": 2
}
