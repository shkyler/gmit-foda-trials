{
 "cells": [
  {
   "cell_type": "markdown",
   "metadata": {},
   "source": [
    "## Simpons Paradox and the Berkely Gender Bias Problem\n",
    "\n",
    "In this weeks lectures we looked at Simpons paradox and the Berkely gender bias problem. In the gender bias problem it can be shown that looking at the aggregate 1973 admissions data for Berkely, there seems to be a bias towards admitting men - more men are admitted that the expted number based on the admission rate for the university. However, if the data is considered at the department level - it can be proven that on a department by department basis there is no bias towards men. The differences are due to the fact that more women apply to course that have lower admission rates overall. We can work thruogh the example from this [paper](https://pdfs.semanticscholar.org/b704/3d57d399bd28b2d3e84fb9d342a307472458.pdf) ."
   ]
  },
  {
   "cell_type": "markdown",
   "metadata": {},
   "source": [
    "### Aggregate Data from the Paper"
   ]
  },
  {
   "cell_type": "code",
   "execution_count": 13,
   "metadata": {},
   "outputs": [
    {
     "data": {
      "text/plain": [
       "0.4099349682676487"
      ]
     },
     "execution_count": 13,
     "metadata": {},
     "output_type": "execute_result"
    }
   ],
   "source": [
    "# Calculate the admission rate\n",
    "admission_rate = (3738 + 1494)/(3738 + 1494 + 4704 + 2827)\n",
    "admission_rate"
   ]
  },
  {
   "cell_type": "code",
   "execution_count": 14,
   "metadata": {},
   "outputs": [
    {
     "data": {
      "text/plain": [
       "3460.6710021154904"
      ]
     },
     "execution_count": 14,
     "metadata": {},
     "output_type": "execute_result"
    }
   ],
   "source": [
    "# Calculate expected men\n",
    "total_men = 3738 + 4704\n",
    "expected_men = total_men * admission_rate\n",
    "expected_men"
   ]
  },
  {
   "cell_type": "code",
   "execution_count": 15,
   "metadata": {},
   "outputs": [
    {
     "data": {
      "text/plain": [
       "1771.32899788451"
      ]
     },
     "execution_count": 15,
     "metadata": {},
     "output_type": "execute_result"
    }
   ],
   "source": [
    "# Calculate expected women\n",
    "total_women = 1494 + 2827\n",
    "expected_women = total_women * admission_rate\n",
    "expected_women"
   ]
  },
  {
   "cell_type": "code",
   "execution_count": 16,
   "metadata": {},
   "outputs": [
    {
     "name": "stdout",
     "output_type": "stream",
     "text": [
      "The admissions variance for men is : 277.33\n"
     ]
    }
   ],
   "source": [
    "print(\"The admissions variance for men is : \" + str(round(3738 - expected_men,2)))"
   ]
  },
  {
   "cell_type": "code",
   "execution_count": 17,
   "metadata": {},
   "outputs": [
    {
     "name": "stdout",
     "output_type": "stream",
     "text": [
      "The admissions variance for women is : -277.33\n"
     ]
    }
   ],
   "source": [
    "print(\"The admissions variance for women is : \" + str(round(1494 - expected_women,2)))"
   ]
  },
  {
   "cell_type": "markdown",
   "metadata": {},
   "source": [
    "So taking this information at face value and it looks like there is bias towards men. The study found that by considering each of the 106 departments, none of these showed a bias to men. There is no data for the 106 departments in the paper but they have fictional data on 2 fictional departments (machismatics, social warfare) to highlight how this has happened."
   ]
  },
  {
   "cell_type": "markdown",
   "metadata": {},
   "source": [
    "### Considering the fictional data \n",
    "\n",
    "Here, we will check per department whether or not there is bias."
   ]
  },
  {
   "cell_type": "code",
   "execution_count": 18,
   "metadata": {},
   "outputs": [
    {
     "data": {
      "text/plain": [
       "0.5"
      ]
     },
     "execution_count": 18,
     "metadata": {},
     "output_type": "execute_result"
    }
   ],
   "source": [
    "# Calculate the admission rate for machismatics\n",
    "admission_rate = (200 + 100)/(200 + 100 + 200 + 100)\n",
    "admission_rate"
   ]
  },
  {
   "cell_type": "code",
   "execution_count": 19,
   "metadata": {},
   "outputs": [
    {
     "data": {
      "text/plain": [
       "200.0"
      ]
     },
     "execution_count": 19,
     "metadata": {},
     "output_type": "execute_result"
    }
   ],
   "source": [
    "# Calculate expected men\n",
    "total_men = 200 + 200\n",
    "expected_men = total_men * admission_rate\n",
    "expected_men"
   ]
  },
  {
   "cell_type": "code",
   "execution_count": 20,
   "metadata": {},
   "outputs": [
    {
     "data": {
      "text/plain": [
       "100.0"
      ]
     },
     "execution_count": 20,
     "metadata": {},
     "output_type": "execute_result"
    }
   ],
   "source": [
    "# Calculate expected women\n",
    "total_women = 100 + 100\n",
    "expected_women = total_women * admission_rate\n",
    "expected_women"
   ]
  },
  {
   "cell_type": "code",
   "execution_count": 21,
   "metadata": {},
   "outputs": [
    {
     "name": "stdout",
     "output_type": "stream",
     "text": [
      "The admissions variance for men is : 0.0\n",
      "The admissions variance for women is : 0.0\n"
     ]
    }
   ],
   "source": [
    "print(\"The admissions variance for men is : \" + str(round(200 - expected_men,2)))\n",
    "print(\"The admissions variance for women is : \" + str(round(100 - expected_women,2)))"
   ]
  },
  {
   "cell_type": "code",
   "execution_count": 23,
   "metadata": {},
   "outputs": [
    {
     "data": {
      "text/plain": [
       "0.3333333333333333"
      ]
     },
     "execution_count": 23,
     "metadata": {},
     "output_type": "execute_result"
    }
   ],
   "source": [
    "# Calculate the admission rate for social warfare\n",
    "admission_rate = (50 + 150)/(50 + 150 + 100 + 300)\n",
    "admission_rate"
   ]
  },
  {
   "cell_type": "code",
   "execution_count": 25,
   "metadata": {},
   "outputs": [
    {
     "data": {
      "text/plain": [
       "50.0"
      ]
     },
     "execution_count": 25,
     "metadata": {},
     "output_type": "execute_result"
    }
   ],
   "source": [
    "# Calculate expected men\n",
    "total_men = 50 + 100\n",
    "expected_men = total_men * admission_rate\n",
    "expected_men"
   ]
  },
  {
   "cell_type": "code",
   "execution_count": 24,
   "metadata": {},
   "outputs": [
    {
     "data": {
      "text/plain": [
       "150.0"
      ]
     },
     "execution_count": 24,
     "metadata": {},
     "output_type": "execute_result"
    }
   ],
   "source": [
    "# Calculate expected women\n",
    "total_women = 150 + 300\n",
    "expected_women = total_women * admission_rate\n",
    "expected_women"
   ]
  },
  {
   "cell_type": "code",
   "execution_count": 26,
   "metadata": {},
   "outputs": [
    {
     "name": "stdout",
     "output_type": "stream",
     "text": [
      "The admissions variance for men is : 0.0\n",
      "The admissions variance for women is : 0.0\n"
     ]
    }
   ],
   "source": [
    "print(\"The admissions variance for men is : \" + str(round(50 - expected_men,2)))\n",
    "print(\"The admissions variance for women is : \" + str(round(150 - expected_women,2)))"
   ]
  },
  {
   "cell_type": "markdown",
   "metadata": {},
   "source": [
    "This shows that neither fictional department has any bias to either gender. In the next step we will look at the aggregate of the 2 fictional departments."
   ]
  },
  {
   "cell_type": "code",
   "execution_count": 27,
   "metadata": {},
   "outputs": [
    {
     "data": {
      "text/plain": [
       "0.4166666666666667"
      ]
     },
     "execution_count": 27,
     "metadata": {},
     "output_type": "execute_result"
    }
   ],
   "source": [
    "# Calculate the admission rate the 2 fictional departments\n",
    "admission_rate = (250 + 250)/(250 + 250 + 400 + 300)\n",
    "admission_rate"
   ]
  },
  {
   "cell_type": "code",
   "execution_count": 28,
   "metadata": {},
   "outputs": [
    {
     "data": {
      "text/plain": [
       "229.16666666666669"
      ]
     },
     "execution_count": 28,
     "metadata": {},
     "output_type": "execute_result"
    }
   ],
   "source": [
    "# Calculate expected men\n",
    "total_men = 250 + 300\n",
    "expected_men = total_men * admission_rate\n",
    "expected_men"
   ]
  },
  {
   "cell_type": "code",
   "execution_count": 29,
   "metadata": {},
   "outputs": [
    {
     "data": {
      "text/plain": [
       "270.83333333333337"
      ]
     },
     "execution_count": 29,
     "metadata": {},
     "output_type": "execute_result"
    }
   ],
   "source": [
    "# Calculate expected women\n",
    "total_women = 250 + 400\n",
    "expected_women = total_women * admission_rate\n",
    "expected_women"
   ]
  },
  {
   "cell_type": "code",
   "execution_count": 30,
   "metadata": {},
   "outputs": [
    {
     "name": "stdout",
     "output_type": "stream",
     "text": [
      "The admissions variance for men is : 20.83\n",
      "The admissions variance for women is : -20.83\n"
     ]
    }
   ],
   "source": [
    "print(\"The admissions variance for men is : \" + str(round(250 - expected_men,2)))\n",
    "print(\"The admissions variance for women is : \" + str(round(250 - expected_women,2)))"
   ]
  },
  {
   "cell_type": "markdown",
   "metadata": {},
   "source": [
    "So even though there was no gender bias in either department - when agregated it looks like there is. The aggreagate score does no consider what genders are applying to what departments and the admission rates are for each departments. In this example proportionally more women are applying to the course with the lower admission rate. (Maybe further study is required to determine why women are choosing particular courses but thats not for here!)"
   ]
  },
  {
   "cell_type": "markdown",
   "metadata": {},
   "source": [
    "### Regression Example"
   ]
  },
  {
   "cell_type": "code",
   "execution_count": 2,
   "metadata": {},
   "outputs": [],
   "source": [
    "import pandas as pd\n",
    "import seaborn as sns\n",
    "import numpy as np"
   ]
  },
  {
   "cell_type": "code",
   "execution_count": 14,
   "metadata": {},
   "outputs": [
    {
     "name": "stderr",
     "output_type": "stream",
     "text": [
      "/Users/patrickmoore/anaconda3/lib/python3.6/site-packages/scipy/stats/stats.py:1713: FutureWarning: Using a non-tuple sequence for multidimensional indexing is deprecated; use `arr[tuple(seq)]` instead of `arr[seq]`. In the future this will be interpreted as an array index, `arr[np.array(seq)]`, which will result either in an error or a different result.\n",
      "  return np.add.reduce(sorted[indexer] * weights, axis=axis) / sumval\n"
     ]
    },
    {
     "data": {
      "text/plain": [
       "<seaborn.axisgrid.FacetGrid at 0x1a188095f8>"
      ]
     },
     "execution_count": 14,
     "metadata": {},
     "output_type": "execute_result"
    },
    {
     "data": {
      "image/png": "[encoded data removed]",
      "text/plain": [
       "<Figure size 360x360 with 1 Axes>"
      ]
     },
     "metadata": {
      "needs_background": "light"
     },
     "output_type": "display_data"
    }
   ],
   "source": [
    "# Simulate height and weight data for men, then plot\n",
    "men = pd.DataFrame({'height': np.random.normal(1.8, 0.05, 100) , 'weight':np.random.normal(85, 1, 100)})\n",
    "men[\"bmi\"] = men['weight']/men['height']**2\n",
    "sns.lmplot(x='height', y='bmi', data=men)"
   ]
  },
  {
   "cell_type": "code",
   "execution_count": 15,
   "metadata": {},
   "outputs": [
    {
     "name": "stderr",
     "output_type": "stream",
     "text": [
      "/Users/patrickmoore/anaconda3/lib/python3.6/site-packages/scipy/stats/stats.py:1713: FutureWarning: Using a non-tuple sequence for multidimensional indexing is deprecated; use `arr[tuple(seq)]` instead of `arr[seq]`. In the future this will be interpreted as an array index, `arr[np.array(seq)]`, which will result either in an error or a different result.\n",
      "  return np.add.reduce(sorted[indexer] * weights, axis=axis) / sumval\n"
     ]
    },
    {
     "data": {
      "text/plain": [
       "<seaborn.axisgrid.FacetGrid at 0x1a18962eb8>"
      ]
     },
     "execution_count": 15,
     "metadata": {},
     "output_type": "execute_result"
    },
    {
     "data": {
      "image/png": "[encoded data removed]",
      "text/plain": [
       "<Figure size 360x360 with 1 Axes>"
      ]
     },
     "metadata": {
      "needs_background": "light"
     },
     "output_type": "display_data"
    }
   ],
   "source": [
    "# Simulate height and weight data for women, then plot\n",
    "women = pd.DataFrame({'height': np.random.normal(1.6, 0.05, 100) , 'weight':np.random.normal(60, 1, 100)})\n",
    "women[\"bmi\"] = women['weight']/women['height']**2\n",
    "sns.lmplot(x='height', y='bmi', data=women)"
   ]
  },
  {
   "cell_type": "markdown",
   "metadata": {},
   "source": [
    "Note that in both cases for our simultated data - BMI reduces with height. The next step is to aggregate the data sets."
   ]
  },
  {
   "cell_type": "code",
   "execution_count": 19,
   "metadata": {},
   "outputs": [
    {
     "name": "stderr",
     "output_type": "stream",
     "text": [
      "/Users/patrickmoore/anaconda3/lib/python3.6/site-packages/scipy/stats/stats.py:1713: FutureWarning: Using a non-tuple sequence for multidimensional indexing is deprecated; use `arr[tuple(seq)]` instead of `arr[seq]`. In the future this will be interpreted as an array index, `arr[np.array(seq)]`, which will result either in an error or a different result.\n",
      "  return np.add.reduce(sorted[indexer] * weights, axis=axis) / sumval\n"
     ]
    },
    {
     "data": {
      "text/plain": [
       "<seaborn.axisgrid.FacetGrid at 0x1a1851b5f8>"
      ]
     },
     "execution_count": 19,
     "metadata": {},
     "output_type": "execute_result"
    },
    {
     "data": {
      "image/png": "[encoded data removed]",
      "text/plain": [
       "<Figure size 360x360 with 1 Axes>"
      ]
     },
     "metadata": {
      "needs_background": "light"
     },
     "output_type": "display_data"
    }
   ],
   "source": [
    "# add a gender column to both dataframe to allow us to seperate in future\n",
    "men[\"gender\"] = 'male'\n",
    "women[\"gender\"] = 'female'\n",
    "# merge the 2 dataframes\n",
    "people = pd.concat([men,women])\n",
    "sns.lmplot(x='height', y='bmi', data=people)"
   ]
  },
  {
   "cell_type": "markdown",
   "metadata": {},
   "source": [
    "When aggregated, the regression line (poor as it is!) shows bmi increasing with height - this was not the case when analysed per gender. A stark warning!"
   ]
  },
  {
   "cell_type": "markdown",
   "metadata": {},
   "source": [
    "## End"
   ]
  }
 ],
 "metadata": {
  "kernelspec": {
   "display_name": "Python 3",
   "language": "python",
   "name": "python3"
  },
  "language_info": {
   "codemirror_mode": {
    "name": "ipython",
    "version": 3
   },
   "file_extension": ".py",
   "mimetype": "text/x-python",
   "name": "python",
   "nbconvert_exporter": "python",
   "pygments_lexer": "ipython3",
   "version": "3.6.6"
  }
 },
 "nbformat": 4,
 "nbformat_minor": 2
}
