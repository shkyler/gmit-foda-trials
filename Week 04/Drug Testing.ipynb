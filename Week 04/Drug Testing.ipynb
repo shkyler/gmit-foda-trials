{
 "cells": [
  {
   "cell_type": "markdown",
   "metadata": {},
   "source": [
    "# Drug Testing Trial (Bayes Therom)\n",
    "\n",
    "These are my notes from the series of lecture videos on Bayes Therom (the Drug Testing Trial)"
   ]
  },
  {
   "cell_type": "markdown",
   "metadata": {},
   "source": [
    "## Bayes Therom\n",
    "\n",
    "$$ P(A \\mid B) = \\frac{P(B \\mid A) \\, P(A)}{P(B)} $$\n",
    "\n"
   ]
  },
  {
   "cell_type": "markdown",
   "metadata": {},
   "source": [
    "# Problem Statement\n",
    "\n",
    "* A drug test where the probability of a non-user testing positive is 0.99 and the probability of a user testing negative is 0.99\n",
    "* If someone tests positive, whats the probability of them being a user\n",
    "* Need to know what percentage of poplation are drug users - this can be got in real life using surveys etc. but for this simulation we'll sat 0.5% (or 5 in 1000)"
   ]
  },
  {
   "cell_type": "markdown",
   "metadata": {},
   "source": [
    "## Events, Outcomes, Probability (some terminology)\n",
    "\n",
    "![cards](img/cards.jpg)"
   ]
  },
  {
   "cell_type": "markdown",
   "metadata": {},
   "source": [
    "* A probability is a number between zero and one inclusive,$$ P  \\epsilon (0,1)$$\n",
    "* Start with a *set of elements* called *possible outcomes*\n",
    "* *Experiment* in the selection on one possible outcome\n",
    "* *Event* is a subset of possible outcomes\n",
    "* An event occurs if the selected outcome is in the subset\n",
    "* Probaility of the event is the number of possible outcomes in the event divided by the total number\n",
    "* Watch out - sets can be infinite and/or uncountable"
   ]
  },
  {
   "cell_type": "markdown",
   "metadata": {},
   "source": [
    "## Simulation\n",
    "\n",
    "Using the random binomial function to simulate the drug testing"
   ]
  },
  {
   "cell_type": "code",
   "execution_count": 8,
   "metadata": {},
   "outputs": [
    {
     "name": "stdout",
     "output_type": "stream",
     "text": [
      "0\n"
     ]
    }
   ],
   "source": [
    "import numpy as np\n",
    "# https://docs.scipy.org/doc/numpy-1.15.0/reference/generated/numpy.random.binomial.html \n",
    "x = np.random.binomial(1,0.1)\n",
    "print(x)\n",
    "\n"
   ]
  },
  {
   "cell_type": "code",
   "execution_count": 57,
   "metadata": {},
   "outputs": [],
   "source": [
    "# Helper functions \n",
    "def true_with_prob_p(p):\n",
    "    return True if np.random.binomial(1,p) == 1 else False\n",
    "\n",
    "# Simulate the selection of a random person to see if they are a drug user or not\n",
    "# It will be true if the are a drug user\n",
    "\n",
    "def select_person():\n",
    "    return true_with_prob_p(0.005)\n",
    "\n",
    "# Simulate the testing of a person\n",
    "# if a person is a user it will be true 99% of the time and false 1%\n",
    "def testing(user):\n",
    "    if user:\n",
    "        return true_with_prob_p(0.99)\n",
    "    else:\n",
    "        return true_with_prob_p(0.01)\n",
    "# a function to simulate the experimental procedure\n",
    "def run_experiment():\n",
    "    user = select_person()\n",
    "    test = testing(user)\n",
    "    return(user,test)\n"
   ]
  },
  {
   "cell_type": "code",
   "execution_count": 58,
   "metadata": {},
   "outputs": [],
   "source": [
    "# Run an experiment 10,000 times\n",
    "y = [run_experiment() for i in range(10000)]\n",
    "\n",
    "# See how many postive tests there are - and how many positive tests come from users/non-users\n",
    "user_and_positive = [True for i in y if i[0] == True and i[1] == True]\n",
    "non_user_positive = [True for i in y if i[0] == False and i[1] == True]\n",
    "\n"
   ]
  },
  {
   "cell_type": "code",
   "execution_count": 61,
   "metadata": {},
   "outputs": [
    {
     "data": {
      "text/plain": [
       "Text(0.5,1,'Peeple who tested positive')"
      ]
     },
     "execution_count": 61,
     "metadata": {},
     "output_type": "execute_result"
    },
    {
     "data": {
      "image/png": "[encoded data removed]",
      "text/plain": [
       "<matplotlib.figure.Figure at 0x11535e3c8>"
      ]
     },
     "metadata": {
      "needs_background": "light"
     },
     "output_type": "display_data"
    }
   ],
   "source": [
    "# plot results\n",
    "\n",
    "import matplotlib.pyplot as plt\n",
    "%matplotlib inline\n",
    "q = np.sum(user_and_positive)\n",
    "r = np.sum(non_user_positive)\n",
    "\n",
    "plt.bar([0,1],[q,r])\n",
    "plt.xticks([0,1],[\"Users\",\"Non-Users\"])\n",
    "plt.title(\"Peeple who tested positive\")\n"
   ]
  },
  {
   "cell_type": "code",
   "execution_count": null,
   "metadata": {},
   "outputs": [],
   "source": []
  }
 ],
 "metadata": {
  "kernelspec": {
   "display_name": "Python 3",
   "language": "python",
   "name": "python3"
  },
  "language_info": {
   "codemirror_mode": {
    "name": "ipython",
    "version": 3
   },
   "file_extension": ".py",
   "mimetype": "text/x-python",
   "name": "python",
   "nbconvert_exporter": "python",
   "pygments_lexer": "ipython3",
   "version": "3.6.6"
  }
 },
 "nbformat": 4,
 "nbformat_minor": 2
}
