{
 "cells": [
  {
   "cell_type": "markdown",
   "metadata": {},
   "source": [
    "# Introduction to Numpy\n",
    "\n",
    "This notebook serves as an introduction to the numpy package for python. Numpy is power, fundamental package that is used for scientific and mathematical calculation. It is really quick at dealing with list, matrices etc. It saves us time coding up calcuations and the algorithms used in it are really efficient. Its main object type is the multi dimensional array.\n",
    "\n",
    "All interesting computer concepts such as image resizing and music/video compression all boil down to matrix operations. Numpy is a very important package!"
   ]
  }
 ],
 "metadata": {
  "kernelspec": {
   "display_name": "Python 3",
   "language": "python",
   "name": "python3"
  },
  "language_info": {
   "codemirror_mode": {
    "name": "ipython",
    "version": 3
   },
   "file_extension": ".py",
   "mimetype": "text/x-python",
   "name": "python",
   "nbconvert_exporter": "python",
   "pygments_lexer": "ipython3",
   "version": "3.6.6"
  }
 },
 "nbformat": 4,
 "nbformat_minor": 2
}
